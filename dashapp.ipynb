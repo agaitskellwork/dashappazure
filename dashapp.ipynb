{
 "cells": [
  {
   "cell_type": "code",
   "execution_count": null,
   "id": "9aeb7263",
   "metadata": {},
   "outputs": [],
   "source": [
    "from jupyter_dash import JupyterDash"
   ]
  },
  {
   "cell_type": "code",
   "execution_count": null,
   "id": "826291ac",
   "metadata": {},
   "outputs": [],
   "source": [
    "import dash \n",
    "from dash import dcc\n",
    "from dash import html\n",
    "\n",
    "external_stylesheets = ['https://codepen.io/chriddyp/pen/bWLwgP.css']"
   ]
  },
  {
   "cell_type": "code",
   "execution_count": null,
   "id": "85cbb3c0",
   "metadata": {},
   "outputs": [],
   "source": [
    "layout = html.Div(children=[ \n",
    "    html.H1(children='Hello Dash'), \n",
    "    html.Div(children=''' This is Dash running on Azure App Service                 without a Docker container. \n",
    "    '''), \n",
    "dcc.Graph( id='example-graph', \n",
    "        figure={ \n",
    "            'data': [ \n",
    "                {'x': [1, 2, 3], 'y': [4, 1, 2], 'type': 'bar',                 'name': 'SF'}, \n",
    "                {'x': [1, 2, 3], 'y': [2, 4, 5], 'type': 'bar', 'name': u'Montréal'}, \n",
    "            ], \n",
    "            'layout': { \n",
    "                'title': 'Dash Data Visualization' \n",
    "            } \n",
    "         } \n",
    "    ) \n",
    "]) "
   ]
  },
  {
   "cell_type": "code",
   "execution_count": null,
   "id": "c2a51a05",
   "metadata": {},
   "outputs": [],
   "source": [
    "app = JupyterDash(__name__, external_stylesheets=external_stylesheets)\n",
    "app.layout = layout"
   ]
  },
  {
   "cell_type": "code",
   "execution_count": null,
   "id": "956d0ffc",
   "metadata": {},
   "outputs": [],
   "source": [
    "#app.run_server()"
   ]
  },
  {
   "cell_type": "code",
   "execution_count": null,
   "id": "72687e0e",
   "metadata": {},
   "outputs": [],
   "source": [
    "if __name__ == '__main__':\n",
    "    app.run_server(debug=False, host='127.0.0.1', port=8050)"
   ]
  },
  {
   "cell_type": "code",
   "execution_count": null,
   "id": "8841ce00",
   "metadata": {},
   "outputs": [],
   "source": []
  }
 ],
 "metadata": {
  "kernelspec": {
   "display_name": "Python 3 (ipykernel)",
   "language": "python",
   "name": "python3"
  },
  "language_info": {
   "codemirror_mode": {
    "name": "ipython",
    "version": 3
   },
   "file_extension": ".py",
   "mimetype": "text/x-python",
   "name": "python",
   "nbconvert_exporter": "python",
   "pygments_lexer": "ipython3",
   "version": "3.9.9"
  }
 },
 "nbformat": 4,
 "nbformat_minor": 5
}
